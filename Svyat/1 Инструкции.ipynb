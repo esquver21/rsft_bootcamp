{
 "cells": [
  {
   "cell_type": "markdown",
   "metadata": {},
   "source": [
    "Напишите программу, которая выведет на экран друг за другом три имени: _Robert_, _Stannis_, _Renly_. В результате на экране должно отобразиться:\n",
    "\n",
    "```\n",
    "Robert  \n",
    "Stannis  \n",
    "Renly\n",
    "```  \n",
    "\n",
    "Для каждого имени используйте свой собственный вызов `print()`."
   ]
  },
  {
   "cell_type": "code",
   "execution_count": 1,
   "metadata": {},
   "outputs": [
    {
     "name": "stdout",
     "output_type": "stream",
     "text": [
      "Robert\n",
      "Stannis\n",
      "Renly\n"
     ]
    }
   ],
   "source": [
    "print(\"Robert\")\n",
    "print(\"Stannis\")\n",
    "print(\"Renly\")"
   ]
  }
 ],
 "metadata": {
  "kernelspec": {
   "display_name": "Python 3",
   "language": "python",
   "name": "python3"
  },
  "language_info": {
   "codemirror_mode": {
    "name": "ipython",
    "version": 3
   },
   "file_extension": ".py",
   "mimetype": "text/x-python",
   "name": "python",
   "nbconvert_exporter": "python",
   "pygments_lexer": "ipython3",
   "version": "3.9.0"
  },
  "orig_nbformat": 4
 },
 "nbformat": 4,
 "nbformat_minor": 2
}
