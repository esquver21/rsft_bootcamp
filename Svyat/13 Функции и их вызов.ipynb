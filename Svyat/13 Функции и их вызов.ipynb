{
 "cells": [
  {
   "cell_type": "markdown",
   "metadata": {},
   "source": [
    "В коде программы определены две переменные, содержащие имена компаний:\n",
    "```python\n",
    "company1 = \"Apple\"\n",
    "company2 = \"Samsung\"\n",
    "```\n",
    "\n",
    "Посчитайте их общую длину в символах и выведите ее на экран.\n",
    "\n",
    "##### Подсказки\n",
    "Для определения длины строки используйте фукнцию `len()`."
   ]
  },
  {
   "cell_type": "code",
   "execution_count": 1,
   "metadata": {},
   "outputs": [
    {
     "name": "stdout",
     "output_type": "stream",
     "text": [
      "12\n"
     ]
    }
   ],
   "source": [
    "company1 = \"Apple\"\n",
    "company2 = \"Samsung\"\n",
    "\n",
    "print(len(company1 + company2))"
   ]
  }
 ],
 "metadata": {
  "kernelspec": {
   "display_name": "Python 3",
   "language": "python",
   "name": "python3"
  },
  "language_info": {
   "codemirror_mode": {
    "name": "ipython",
    "version": 3
   },
   "file_extension": ".py",
   "mimetype": "text/x-python",
   "name": "python",
   "nbconvert_exporter": "python",
   "pygments_lexer": "ipython3",
   "version": "3.9.0"
  },
  "orig_nbformat": 4
 },
 "nbformat": 4,
 "nbformat_minor": 2
}
