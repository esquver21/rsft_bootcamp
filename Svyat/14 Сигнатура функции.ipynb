{
 "cells": [
  {
   "cell_type": "markdown",
   "metadata": {},
   "source": [
    "В Python есть функция `abs()`. Изучите ее сигнатуру на странице документации.\n",
    "\n",
    "Напишите программу, которая использует функцию `abs()` и выводит на экран модуль суммы двух переменных — `num1` и `num2`."
   ]
  },
  {
   "cell_type": "code",
   "execution_count": 1,
   "metadata": {},
   "outputs": [
    {
     "name": "stdout",
     "output_type": "stream",
     "text": [
      "3\n"
     ]
    }
   ],
   "source": [
    "num1 = 10\n",
    "num2 = -13\n",
    "\n",
    "print(abs(num1 + num2))"
   ]
  }
 ],
 "metadata": {
  "kernelspec": {
   "display_name": "Python 3",
   "language": "python",
   "name": "python3"
  },
  "language_info": {
   "codemirror_mode": {
    "name": "ipython",
    "version": 3
   },
   "file_extension": ".py",
   "mimetype": "text/x-python",
   "name": "python",
   "nbconvert_exporter": "python",
   "pygments_lexer": "ipython3",
   "version": "3.9.0"
  },
  "orig_nbformat": 4
 },
 "nbformat": 4,
 "nbformat_minor": 2
}
