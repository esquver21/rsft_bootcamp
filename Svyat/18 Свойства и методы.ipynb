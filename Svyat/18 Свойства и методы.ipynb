{
 "cells": [
  {
   "cell_type": "markdown",
   "metadata": {},
   "source": [
    "Данные, вводимые пользователями, часто содержат лишние пробельные символы в конце или начале строки. Обычно их вырезают с помощью метода `.strip()`. Например:  \n",
    "* Было: `' hello\\n '`\n",
    "* Стало: `'hello'`  \n",
    "\n",
    "Обновите переменную `first_name`, записав в нее то же самое значение, но обработанное методом `.strip()`. Распечатайте результат на экран."
   ]
  },
  {
   "cell_type": "code",
   "execution_count": 1,
   "metadata": {},
   "outputs": [
    {
     "name": "stdout",
     "output_type": "stream",
     "text": [
      "Grigor\n"
     ]
    }
   ],
   "source": [
    "first_name = '  Grigor   \\n '\n",
    "first_name = first_name.strip()\n",
    "\n",
    "print(first_name)"
   ]
  }
 ],
 "metadata": {
  "kernelspec": {
   "display_name": "Python 3",
   "language": "python",
   "name": "python3"
  },
  "language_info": {
   "codemirror_mode": {
    "name": "ipython",
    "version": 3
   },
   "file_extension": ".py",
   "mimetype": "text/x-python",
   "name": "python",
   "nbconvert_exporter": "python",
   "pygments_lexer": "ipython3",
   "version": "3.9.0"
  },
  "orig_nbformat": 4
 },
 "nbformat": 4,
 "nbformat_minor": 2
}
