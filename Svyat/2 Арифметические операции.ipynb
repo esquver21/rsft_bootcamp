{
 "cells": [
  {
   "cell_type": "markdown",
   "metadata": {},
   "source": [
    "Напишите программу, которая считает и последовательно (по одному значению в каждой строке) выводит на экран значения следующих математических выражений:\n",
    "\n",
    "* 3 в степени 5\n",
    "* -8 разделить на -4\n",
    "* Остаток от деления 100 на 3\n",
    "* Сумму трех предыдущих выражений"
   ]
  },
  {
   "cell_type": "code",
   "execution_count": 1,
   "metadata": {},
   "outputs": [
    {
     "name": "stdout",
     "output_type": "stream",
     "text": [
      "243\n",
      "2.0\n",
      "1\n",
      "246.0\n"
     ]
    }
   ],
   "source": [
    "print(3 ** 5)\n",
    "print(-8 / (-4))\n",
    "print(100 % 3)\n",
    "print(3**5 + (-8)/(-4) + 100%3)"
   ]
  }
 ],
 "metadata": {
  "kernelspec": {
   "display_name": "Python 3",
   "language": "python",
   "name": "python3"
  },
  "language_info": {
   "codemirror_mode": {
    "name": "ipython",
    "version": 3
   },
   "file_extension": ".py",
   "mimetype": "text/x-python",
   "name": "python",
   "nbconvert_exporter": "python",
   "pygments_lexer": "ipython3",
   "version": "3.9.0"
  },
  "orig_nbformat": 4
 },
 "nbformat": 4,
 "nbformat_minor": 2
}
