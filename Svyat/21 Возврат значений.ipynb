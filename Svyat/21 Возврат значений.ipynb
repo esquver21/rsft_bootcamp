{
 "cells": [
  {
   "cell_type": "markdown",
   "metadata": {},
   "source": [
    "Реализуйте функцию `say_hurray_three_times()`, которая возвращает строку _hurray! hurray! hurray!_\n",
    "```python\n",
    "# Вызов функции\n",
    "result = say_hurray_three_times()\n",
    "print(result)  # => hurray! hurray! hurray!\n",
    "```\n",
    "Вам не нужно вызывать свою функцию. Только определите ее."
   ]
  },
  {
   "cell_type": "code",
   "execution_count": 1,
   "metadata": {},
   "outputs": [],
   "source": [
    "def say_hurray_three_times():\n",
    "    return \"hurray! hurray! hurray!\""
   ]
  },
  {
   "cell_type": "code",
   "execution_count": 2,
   "metadata": {},
   "outputs": [
    {
     "name": "stdout",
     "output_type": "stream",
     "text": [
      "hurray! hurray! hurray!\n"
     ]
    }
   ],
   "source": [
    "result = say_hurray_three_times()\n",
    "print(result)"
   ]
  }
 ],
 "metadata": {
  "kernelspec": {
   "display_name": "Python 3",
   "language": "python",
   "name": "python3"
  },
  "language_info": {
   "codemirror_mode": {
    "name": "ipython",
    "version": 3
   },
   "file_extension": ".py",
   "mimetype": "text/x-python",
   "name": "python",
   "nbconvert_exporter": "python",
   "pygments_lexer": "ipython3",
   "version": "3.9.0"
  },
  "orig_nbformat": 4
 },
 "nbformat": 4,
 "nbformat_minor": 2
}
