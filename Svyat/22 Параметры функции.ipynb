{
 "cells": [
  {
   "cell_type": "markdown",
   "metadata": {},
   "source": [
    "Реализуйте функцию `truncate()`, которая должна обрезать переданную строку до указанного количества символов, добавлять в конце многоточие и возвращать получившуюся строку. Подобная логика часто используется на сайтах, чтобы отобразить длинный текст в сокращенном виде.\n",
    "\n",
    "Функция принимает два параметра:\n",
    "\n",
    "1. Строка, которую нужно обрезать (параметр `text`)\n",
    "2. Число символов, которые нужно оставить (параметр `length`)\n",
    "\n",
    "Пример того, как должна работать написанная вами функция:\n",
    "\n",
    "```python\n",
    "# Передаём текст напрямую\n",
    "# Обрезаем текст, оставляя 2 символа\n",
    "truncate('hexlet', 2)  # 'he...'\n",
    " \n",
    "# Через переменную\n",
    "text = 'it works!'\n",
    "# Обрезаем текст, оставляя 4 символа\n",
    "truncate(text, 4)  # 'it w...'\n",
    "```\n",
    "# Подсказки\n",
    "* Эта функция отсутствует в стандартной библиотеке, необоходимо ее самостоятельно реализовать\n",
    "* Реализовать эту функцию можно различными способами, подскажем лишь один из них. Для решения этим способом вам нужно взять подстроку из строки, переданной первым параметром в функцию. Используйте для этого срезы строк. Исходя из условия задания, подумайте, с какого индекса и по какой вам надо извлечь подстроку.\n",
    "```python\n",
    "word = 'welcome!'\n",
    "# Передавать границы среза можно через переменные\n",
    "index = 3\n",
    "word[:index] // 'wel'\n",
    "```"
   ]
  },
  {
   "cell_type": "code",
   "execution_count": 1,
   "metadata": {},
   "outputs": [],
   "source": [
    "def truncate(text, length):\n",
    "    return(text[:length] + \"...\")"
   ]
  },
  {
   "cell_type": "code",
   "execution_count": 3,
   "metadata": {},
   "outputs": [
    {
     "name": "stdout",
     "output_type": "stream",
     "text": [
      "he...\n",
      "it w...\n"
     ]
    }
   ],
   "source": [
    "print(truncate('hexlet', 2))  # 'he...'\n",
    "\n",
    "text = 'it works!'\n",
    "print(truncate(text, 4))  # 'it w...'"
   ]
  }
 ],
 "metadata": {
  "kernelspec": {
   "display_name": "Python 3",
   "language": "python",
   "name": "python3"
  },
  "language_info": {
   "codemirror_mode": {
    "name": "ipython",
    "version": 3
   },
   "file_extension": ".py",
   "mimetype": "text/x-python",
   "name": "python",
   "nbconvert_exporter": "python",
   "pygments_lexer": "ipython3",
   "version": "3.9.0"
  },
  "orig_nbformat": 4
 },
 "nbformat": 4,
 "nbformat_minor": 2
}
