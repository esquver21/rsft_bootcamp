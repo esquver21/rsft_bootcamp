{
 "cells": [
  {
   "cell_type": "markdown",
   "metadata": {},
   "source": [
    "Реализуйте функцию `get_hidden_card()`, которая:\n",
    "\n",
    "* Принимает на вход номер кредитки (состоящий из 16 цифр) в виде строки\n",
    "* Возвращает его скрытую версию, которую можно использовать на сайте для отображения\n",
    "\n",
    "Если исходная карта имела номер _2034399002125581_, то скрытая версия выглядит так _****5581_. Другими словами, функция отбрасывает первые 12 символов номера и заменяет их на звездочки. Количество звездочек регулируется вторым необязательным параметром. Значение по умолчанию — 4.\n",
    "\n",
    "```python\n",
    "# Кредитка передается внутрь как строка\n",
    "get_hidden_card('2034399002121100', 1)  # *1100\n",
    "get_hidden_card('1234567812345678', 2)  # **5678\n",
    "get_hidden_card('1234567812345678', 3)  # ***5678\n",
    "get_hidden_card('1234567812345678')     # ****5678\n",
    "```\n",
    "# Подсказки\n",
    "\n",
    "* Реализовать эту функцию можно различными способами, подскажем лишь один из них. Для решения задания вам понадобится размножить строку. В Python это можно сделать так:\n",
    "```python\n",
    "\"+\" * 5  # +++++\n",
    "\"o\" * 5  # ooooo\n",
    "```\n",
    "* С точки зрения проверочной системы не имеет значения, каким из способов будет реализована функция get_hidden_card() внутри. Главное – чтобы она выполняла поставленную задачу"
   ]
  },
  {
   "cell_type": "code",
   "execution_count": 1,
   "metadata": {},
   "outputs": [],
   "source": [
    "def get_hidden_card(card_id, ln_secret=4):\n",
    "    return ln_secret * \"*\" + card_id[-4:]"
   ]
  },
  {
   "cell_type": "code",
   "execution_count": 2,
   "metadata": {},
   "outputs": [
    {
     "name": "stdout",
     "output_type": "stream",
     "text": [
      "*1100\n",
      "**5678\n",
      "***5678\n",
      "****5678\n"
     ]
    }
   ],
   "source": [
    "print(get_hidden_card('2034399002121100', 1))  # *1100\n",
    "print(get_hidden_card('1234567812345678', 2))  # **5678\n",
    "print(get_hidden_card('1234567812345678', 3))  # ***5678\n",
    "print(get_hidden_card('1234567812345678'))     # ****5678"
   ]
  }
 ],
 "metadata": {
  "kernelspec": {
   "display_name": "Python 3",
   "language": "python",
   "name": "python3"
  },
  "language_info": {
   "codemirror_mode": {
    "name": "ipython",
    "version": 3
   },
   "file_extension": ".py",
   "mimetype": "text/x-python",
   "name": "python",
   "nbconvert_exporter": "python",
   "pygments_lexer": "ipython3",
   "version": "3.9.0"
  },
  "orig_nbformat": 4
 },
 "nbformat": 4,
 "nbformat_minor": 2
}
