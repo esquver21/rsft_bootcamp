{
 "cells": [
  {
   "cell_type": "markdown",
   "metadata": {},
   "source": [
    "Реализуйте функцию `trim_and_repeat()`, которая принимает три параметра:\n",
    "\n",
    "* Строку\n",
    "* offset — число символов, на которое нужно обрезать строку слева\n",
    "* repetitions — сколько раз нужно повторить строку перед возвратом получившейся строки\n",
    "\n",
    "Число символов для среза по умолчанию равно 0, а количество повторений по умолчанию равно 1.\n",
    "\n",
    "Функция должна возвращать полученную строку.\n",
    "```python\n",
    "text = 'python'\n",
    " \n",
    "trim_and_repeat(text, offset=3, repetitions=2)  # honhon\n",
    "trim_and_repeat(text, repetitions=3)  # pythonpythonpython\n",
    "trim_and_repeat(text)  # python\n",
    "```\n",
    "# Подсказки\n",
    "\n",
    "Реализовать эту функцию можно различными способами\n",
    "С точки зрения проверочной системы не имеет значения, каким из способов будет реализована функция `trim_and_repeat() `внутри. Главное – чтобы она выполняла поставленную задачу"
   ]
  },
  {
   "cell_type": "code",
   "execution_count": 1,
   "metadata": {},
   "outputs": [],
   "source": [
    "def trim_and_repeat(text, offset=0, repetitions=1):\n",
    "    return text[offset:]*repetitions"
   ]
  },
  {
   "cell_type": "code",
   "execution_count": 2,
   "metadata": {},
   "outputs": [
    {
     "name": "stdout",
     "output_type": "stream",
     "text": [
      "honhon\n",
      "pythonpythonpython\n",
      "python\n"
     ]
    }
   ],
   "source": [
    "text = 'python'\n",
    " \n",
    "print(trim_and_repeat(text, offset=3, repetitions=2))  # honhon\n",
    "print(trim_and_repeat(text, repetitions=3))  # pythonpythonpython\n",
    "print(trim_and_repeat(text))  # python"
   ]
  }
 ],
 "metadata": {
  "kernelspec": {
   "display_name": "Python 3",
   "language": "python",
   "name": "python3"
  },
  "language_info": {
   "codemirror_mode": {
    "name": "ipython",
    "version": 3
   },
   "file_extension": ".py",
   "mimetype": "text/x-python",
   "name": "python",
   "nbconvert_exporter": "python",
   "pygments_lexer": "ipython3",
   "version": "3.9.0"
  },
  "orig_nbformat": 4
 },
 "nbformat": 4,
 "nbformat_minor": 2
}
