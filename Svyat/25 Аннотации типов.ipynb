{
 "cells": [
  {
   "cell_type": "markdown",
   "metadata": {},
   "source": [
    "Реализуйте функцию `letter_multiply()`. Она должна принимать три параметра:\n",
    "* Строку\n",
    "* Символ\n",
    "* Число, которое обозначает, сколько раз нужно повторить символ в слове\n",
    "```python\n",
    "text = 'python'\n",
    "print(letter_multiply(text, 'p', 2)) # => ppython\n",
    "print(letter_multiply(text, 'y', 3)) # => pyyython\n",
    "print(letter_multiply(text, 'n', 4)) # => pythonnnn\n",
    "```\n",
    "Укажите аннотации типов при объявлении функции.\n",
    "\n",
    "# Подсказка\n",
    "Для замены символов в строке воспользуйтесь методом `replace()`"
   ]
  },
  {
   "cell_type": "code",
   "execution_count": 1,
   "metadata": {},
   "outputs": [],
   "source": [
    "def letter_multiply(text: str, simb: str, rep: int) -> str:\n",
    "    return text.replace(simb, simb*rep)"
   ]
  },
  {
   "cell_type": "code",
   "execution_count": 2,
   "metadata": {},
   "outputs": [
    {
     "name": "stdout",
     "output_type": "stream",
     "text": [
      "ppython\n",
      "pyyython\n",
      "pythonnnn\n"
     ]
    }
   ],
   "source": [
    "text = 'python'\n",
    "print(letter_multiply(text, 'p', 2)) # => ppython\n",
    "print(letter_multiply(text, 'y', 3)) # => pyyython\n",
    "print(letter_multiply(text, 'n', 4)) # => pythonnnn"
   ]
  }
 ],
 "metadata": {
  "kernelspec": {
   "display_name": "Python 3",
   "language": "python",
   "name": "python3"
  },
  "language_info": {
   "codemirror_mode": {
    "name": "ipython",
    "version": 3
   },
   "file_extension": ".py",
   "mimetype": "text/x-python",
   "name": "python",
   "nbconvert_exporter": "python",
   "pygments_lexer": "ipython3",
   "version": "3.9.0"
  },
  "orig_nbformat": 4
 },
 "nbformat": 4,
 "nbformat_minor": 2
}
