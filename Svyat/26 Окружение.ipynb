{
 "cells": [
  {
   "cell_type": "markdown",
   "metadata": {},
   "source": [
    "Это задание не связано напрямую с уроком, это просто еще одно полезное упражнение по работе с функциями.\n",
    "\n",
    "Напишите функцию `get_age_difference()`, которая принимает два года рождения и возвращает строку с разницей в возрасте в виде `The age difference is 11`.\n",
    "\n",
    "Пример работы функции:\n",
    "```python\n",
    "actual = get_age_difference(2001, 2018)\n",
    "print(actual)  # => The age difference is 17\n",
    "```"
   ]
  },
  {
   "cell_type": "code",
   "execution_count": 1,
   "metadata": {},
   "outputs": [],
   "source": [
    "def get_age_difference(one_year: int, two_year: int) -> int:\n",
    "    return f\"The age difference is {abs(one_year - two_year)}\""
   ]
  },
  {
   "cell_type": "code",
   "execution_count": 2,
   "metadata": {},
   "outputs": [
    {
     "name": "stdout",
     "output_type": "stream",
     "text": [
      "The age difference is 17\n"
     ]
    }
   ],
   "source": [
    "actual = get_age_difference(2001, 2018)\n",
    "print(actual)  # => The age difference is 17"
   ]
  }
 ],
 "metadata": {
  "kernelspec": {
   "display_name": "Python 3",
   "language": "python",
   "name": "python3"
  },
  "language_info": {
   "codemirror_mode": {
    "name": "ipython",
    "version": 3
   },
   "file_extension": ".py",
   "mimetype": "text/x-python",
   "name": "python",
   "nbconvert_exporter": "python",
   "pygments_lexer": "ipython3",
   "version": "3.9.0"
  },
  "orig_nbformat": 4
 },
 "nbformat": 4,
 "nbformat_minor": 2
}
