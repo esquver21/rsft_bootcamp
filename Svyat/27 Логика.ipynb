{
 "cells": [
  {
   "cell_type": "markdown",
   "metadata": {},
   "source": [
    "Реализуйте функцию `has_upper_case()`, которая определяет, содержит ли строка заглавные буквы. Функция должна вернуть булево значение:\n",
    "```python\n",
    "has_upper_case('')  # False\n",
    "has_upper_case('python')  # False\n",
    "has_upper_case('pyThon')  # True\n",
    "```\n",
    "# Подсказка\n",
    "Воспользуйтесь методом из стандартной библиотеки, который приводит строку к нижнему регистру. Обратите внимание, чем отличается такая строка от исходной."
   ]
  },
  {
   "cell_type": "code",
   "execution_count": 1,
   "metadata": {},
   "outputs": [],
   "source": [
    "def has_upper_case(text: str) -> bool:\n",
    "    return not (text == text.lower())"
   ]
  },
  {
   "cell_type": "code",
   "execution_count": 2,
   "metadata": {},
   "outputs": [
    {
     "name": "stdout",
     "output_type": "stream",
     "text": [
      "False\n",
      "False\n",
      "True\n"
     ]
    }
   ],
   "source": [
    "print(has_upper_case(''))  # False\n",
    "print(has_upper_case('python'))  # False\n",
    "print(has_upper_case('pyThon'))  # True"
   ]
  }
 ],
 "metadata": {
  "kernelspec": {
   "display_name": "Python 3",
   "language": "python",
   "name": "python3"
  },
  "language_info": {
   "codemirror_mode": {
    "name": "ipython",
    "version": 3
   },
   "file_extension": ".py",
   "mimetype": "text/x-python",
   "name": "python",
   "nbconvert_exporter": "python",
   "pygments_lexer": "ipython3",
   "version": "3.9.0"
  },
  "orig_nbformat": 4
 },
 "nbformat": 4,
 "nbformat_minor": 2
}
