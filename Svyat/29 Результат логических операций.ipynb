{
 "cells": [
  {
   "cell_type": "markdown",
   "metadata": {},
   "source": [
    "Реализуйте функцию `string_or_not()`, которая проверяет является ли переданный параметр строкой. Если да, то возвращается строка _yes_, иначе _no_.\n",
    "```python\n",
    "string_or_not('Hexlet') # yes\n",
    "string_or_not(10)       # no\n",
    "string_or_not('')       # yes\n",
    "string_or_not(False)    # no\n",
    "```\n",
    "# Подсказки\n",
    "Проверить, что значение является строкой, можно с помощью функции `isinstance()`:\n",
    "```python\n",
    "isinstance(3, str) # False\n",
    "isinstance('Hexlet', str) # True\n",
    "```"
   ]
  },
  {
   "cell_type": "code",
   "execution_count": 1,
   "metadata": {},
   "outputs": [],
   "source": [
    "def string_or_not(inp):\n",
    "    return isinstance(inp, str) and 'yes' or 'no'"
   ]
  },
  {
   "cell_type": "code",
   "execution_count": 2,
   "metadata": {},
   "outputs": [
    {
     "name": "stdout",
     "output_type": "stream",
     "text": [
      "yes\n",
      "no\n",
      "yes\n",
      "no\n"
     ]
    }
   ],
   "source": [
    "print(string_or_not('Hexlet')) # yes\n",
    "print(string_or_not(10))       # no\n",
    "print(string_or_not(''))       # yes\n",
    "print(string_or_not(False))    # no"
   ]
  }
 ],
 "metadata": {
  "kernelspec": {
   "display_name": "Python 3",
   "language": "python",
   "name": "python3"
  },
  "language_info": {
   "codemirror_mode": {
    "name": "ipython",
    "version": 3
   },
   "file_extension": ".py",
   "mimetype": "text/x-python",
   "name": "python",
   "nbconvert_exporter": "python",
   "pygments_lexer": "ipython3",
   "version": "3.9.0"
  },
  "orig_nbformat": 4
 },
 "nbformat": 4,
 "nbformat_minor": 2
}
