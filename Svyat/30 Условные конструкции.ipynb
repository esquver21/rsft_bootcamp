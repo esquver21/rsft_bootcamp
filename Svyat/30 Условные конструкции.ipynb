{
 "cells": [
  {
   "cell_type": "markdown",
   "metadata": {},
   "source": [
    "Реализуйте функцию `normalize_url()`, которая выполняет так называемую нормализацию данных. Она принимает адрес сайта и возвращает его с _https://_ в начале.\n",
    "\n",
    "Функция принимает адреса в виде:\n",
    "\n",
    "* АДРЕС\n",
    "* http://АДРЕС\n",
    "* https://АДРЕС (нормализованный)\n",
    "\n",
    "Функция всегда возвращает адрес в виде _https://АДРЕС_.\n",
    "```python\n",
    "normalize_url('https://ya.ru')  # https://ya.ru\n",
    "normalize_url('google.com')  # https://google.com\n",
    "normalize_url('http://ai.fi')  # https://ai.fi\n",
    "```\n",
    "# Подсказка\n",
    "Можно сравнить первые семь символов адреса со строкой _http://_. Для этого вам нужно получить кусок строки или отбросить ненужный. Мы рассматривали способ получения части строки ее начала:\n",
    "```python\n",
    "# Берем два символа от начала\n",
    "print('Python'[:2])  # => Py\n",
    " \n",
    "# Отбрасываем первые два символа\n",
    "print('Python'[2:])  # => thon\n",
    "```"
   ]
  },
  {
   "cell_type": "code",
   "execution_count": 2,
   "metadata": {},
   "outputs": [],
   "source": [
    "def normalize_url(url: str) -> str:\n",
    "    if (\"https://\" in url[:9]):\n",
    "        return url\n",
    "    return f\"https{url[4:]}\" if (\"http://\" in url[:8]) else f\"https://{url}\""
   ]
  },
  {
   "cell_type": "code",
   "execution_count": 3,
   "metadata": {},
   "outputs": [
    {
     "name": "stdout",
     "output_type": "stream",
     "text": [
      "https://ya.ru\n",
      "https://google.com\n",
      "https://ai.fi\n"
     ]
    }
   ],
   "source": [
    "print(normalize_url('https://ya.ru'))  # https://ya.ru\n",
    "print(normalize_url('google.com'))     # https://google.com\n",
    "print(normalize_url('http://ai.fi'))   # https://ai.fi"
   ]
  }
 ],
 "metadata": {
  "kernelspec": {
   "display_name": "Python 3",
   "language": "python",
   "name": "python3"
  },
  "language_info": {
   "codemirror_mode": {
    "name": "ipython",
    "version": 3
   },
   "file_extension": ".py",
   "mimetype": "text/x-python",
   "name": "python",
   "nbconvert_exporter": "python",
   "pygments_lexer": "ipython3",
   "version": "3.9.0"
  },
  "orig_nbformat": 4
 },
 "nbformat": 4,
 "nbformat_minor": 2
}
