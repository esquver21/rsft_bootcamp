{
 "cells": [
  {
   "cell_type": "markdown",
   "metadata": {},
   "source": [
    "Реализуйте функцию `get_number_explanation()`, которая принимает на вход число и возвращает объяснение этого числа. Если для числа нет объяснения, то возвращается `just a number`. Объяснения есть только для следующих чисел:\n",
    "\n",
    "* 666 - devil number\n",
    "* 42 - answer for everything\n",
    "* 7 - prime number\n",
    "Примеры вызова функции:\n",
    "```python\n",
    "get_number_explanation(8)  # just a number\n",
    "get_number_explanation(666)  # devil number\n",
    "get_number_explanation(42)  # answer for everything\n",
    "get_number_explanation(7)  # prime number\n",
    "```"
   ]
  },
  {
   "cell_type": "markdown",
   "metadata": {},
   "source": [
    "Оператор `match` работает с `3.10`.  "
   ]
  },
  {
   "cell_type": "code",
   "execution_count": null,
   "metadata": {},
   "outputs": [],
   "source": [
    "def get_number_explanation(num: int) -> str:\n",
    "    match num:\n",
    "        case 666:\n",
    "            return \"devil number\"\n",
    "        case 42:\n",
    "            return \"answer for everything\"\n",
    "        case 7:\n",
    "            return \"prime number\"\n",
    "        case _:\n",
    "            return \"just a number\""
   ]
  },
  {
   "cell_type": "code",
   "execution_count": null,
   "metadata": {},
   "outputs": [],
   "source": [
    "print(get_number_explanation(8))    # just a number\n",
    "print(get_number_explanation(666))  # devil number\n",
    "print(get_number_explanation(42))   # answer for everything\n",
    "print(get_number_explanation(7))    # prime number"
   ]
  }
 ],
 "metadata": {
  "kernelspec": {
   "display_name": "Python 3",
   "language": "python",
   "name": "python3"
  },
  "language_info": {
   "codemirror_mode": {
    "name": "ipython",
    "version": 3
   },
   "file_extension": ".py",
   "mimetype": "text/x-python",
   "name": "python",
   "nbconvert_exporter": "python",
   "pygments_lexer": "ipython3",
   "version": "3.9.0"
  },
  "orig_nbformat": 4
 },
 "nbformat": 4,
 "nbformat_minor": 2
}
