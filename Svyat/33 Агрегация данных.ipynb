{
 "cells": [
  {
   "cell_type": "markdown",
   "metadata": {},
   "source": [
    "Реализуйте функцию `join_numbers_from_range()`, которая объединяет все числа из диапазона в строку и возвращает получившуюся строку:\n",
    "```python\n",
    "join_numbers_from_range(1, 1)  # 1\n",
    "join_numbers_from_range(2, 3)  # 23\n",
    "join_numbers_from_range(5, 10)  # 5678910\n",
    "```"
   ]
  },
  {
   "cell_type": "code",
   "execution_count": 3,
   "metadata": {},
   "outputs": [],
   "source": [
    "def join_numbers_from_range(start: int, finish: int) -> str:\n",
    "    rety = \"\"\n",
    "    rety += \"\".join(str(iter) for iter in range(start, finish + 1))\n",
    "    return rety"
   ]
  },
  {
   "cell_type": "code",
   "execution_count": 4,
   "metadata": {},
   "outputs": [
    {
     "name": "stdout",
     "output_type": "stream",
     "text": [
      "1\n",
      "23\n",
      "5678910\n"
     ]
    }
   ],
   "source": [
    "print(join_numbers_from_range(1, 1))   # 1\n",
    "print(join_numbers_from_range(2, 3))   # 23\n",
    "print(join_numbers_from_range(5, 10))  # 5678910"
   ]
  }
 ],
 "metadata": {
  "kernelspec": {
   "display_name": "Python 3",
   "language": "python",
   "name": "python3"
  },
  "language_info": {
   "codemirror_mode": {
    "name": "ipython",
    "version": 3
   },
   "file_extension": ".py",
   "mimetype": "text/x-python",
   "name": "python",
   "nbconvert_exporter": "python",
   "pygments_lexer": "ipython3",
   "version": "3.9.0"
  },
  "orig_nbformat": 4
 },
 "nbformat": 4,
 "nbformat_minor": 2
}
