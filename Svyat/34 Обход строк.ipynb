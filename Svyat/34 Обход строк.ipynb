{
 "cells": [
  {
   "cell_type": "markdown",
   "metadata": {},
   "source": [
    "Реализуйте функцию `my_substr()`, которая извлекает из строки подстроку указанной длины. Она принимает на вход два аргумента (строку и длину) и возвращает подстроку, начиная с первого символа:\n",
    "```python\n",
    "string = 'If I look back I am lost'\n",
    "print(my_substr(string, 1))  # => 'I'\n",
    "print(my_substr(string, 7))  # => 'If I lo'\n",
    "```\n",
    "Используйте тот же подход, что в функции для переворота строки из урока. Собирайте строку-результат в цикле, перебирая начальную строку до определенного момента.\n",
    "\n",
    "Эту задачу можно решить при помощи срезов. Но в этом упражнении мы хотим потренироваться в использовании циклов и поэтому реализуем эту функциональность самостоятельно. Именно так внутри и работают срезы."
   ]
  },
  {
   "cell_type": "code",
   "execution_count": 1,
   "metadata": {},
   "outputs": [],
   "source": [
    "def my_substr (string: str, lenght: int) -> str:\n",
    "    ans = \"\"\n",
    "    for iterator in range(lenght):\n",
    "        ans += string[iterator]\n",
    "    return ans"
   ]
  },
  {
   "cell_type": "code",
   "execution_count": 2,
   "metadata": {},
   "outputs": [
    {
     "name": "stdout",
     "output_type": "stream",
     "text": [
      "I\n",
      "If I lo\n"
     ]
    }
   ],
   "source": [
    "string = 'If I look back I am lost'\n",
    "print(my_substr(string, 1))  # => 'I'\n",
    "print(my_substr(string, 7))  # => 'If I lo'"
   ]
  }
 ],
 "metadata": {
  "kernelspec": {
   "display_name": "Python 3",
   "language": "python",
   "name": "python3"
  },
  "language_info": {
   "codemirror_mode": {
    "name": "ipython",
    "version": 3
   },
   "file_extension": ".py",
   "mimetype": "text/x-python",
   "name": "python",
   "nbconvert_exporter": "python",
   "pygments_lexer": "ipython3",
   "version": "3.9.0"
  },
  "orig_nbformat": 4
 },
 "nbformat": 4,
 "nbformat_minor": 2
}
