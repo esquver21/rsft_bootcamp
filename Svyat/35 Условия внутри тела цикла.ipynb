{
 "cells": [
  {
   "cell_type": "markdown",
   "metadata": {},
   "source": [
    "Реализуйте функцию `has_char()`. Она должна проверять, содержит ли строка указанную букву (вне зависимости от регистра). Функция принимает два параметра:\n",
    "* Строка\n",
    "* Буква для поиска\n",
    "* И возвращает результат проверки – булево значение.\n",
    "\n",
    "```python\n",
    "print(has_char('Hexlet', 'H'))  # => True\n",
    "print(has_char('Hexlet', 'h'))  # => True\n",
    "print(has_char('Awesomeness', 'd'))  # => False\n",
    "```"
   ]
  },
  {
   "cell_type": "code",
   "execution_count": 1,
   "metadata": {},
   "outputs": [],
   "source": [
    "def has_char(string: str, symb: str) -> bool:\n",
    "    return symb.lower() in string.lower() "
   ]
  },
  {
   "cell_type": "code",
   "execution_count": 2,
   "metadata": {},
   "outputs": [
    {
     "name": "stdout",
     "output_type": "stream",
     "text": [
      "True\n",
      "True\n",
      "False\n"
     ]
    }
   ],
   "source": [
    "print(has_char('Hexlet', 'H'))  # => True\n",
    "print(has_char('Hexlet', 'h'))  # => True\n",
    "print(has_char('Awesomeness', 'd'))  # => False"
   ]
  }
 ],
 "metadata": {
  "kernelspec": {
   "display_name": "Python 3",
   "language": "python",
   "name": "python3"
  },
  "language_info": {
   "codemirror_mode": {
    "name": "ipython",
    "version": 3
   },
   "file_extension": ".py",
   "mimetype": "text/x-python",
   "name": "python",
   "nbconvert_exporter": "python",
   "pygments_lexer": "ipython3",
   "version": "3.9.0"
  },
  "orig_nbformat": 4
 },
 "nbformat": 4,
 "nbformat_minor": 2
}
