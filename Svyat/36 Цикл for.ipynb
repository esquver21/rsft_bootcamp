{
 "cells": [
  {
   "cell_type": "markdown",
   "metadata": {},
   "source": [
    "Реализуйте функцию `filter_string()`. Она принимает на вход строку и символ и возвращает новую строку, в которой удален переданный символ во всех его позициях. Если строка не содержит указанный символ, то она возвращается без изменений.\n",
    "\n",
    "Итоговая строка также не должна содержать начальные и концевые пробелы:\n",
    "```python\n",
    "text = 'If I look forward I win'\n",
    "filter_string(text, 'i')  # 'f  look forward  wn'\n",
    "filter_string(text, 'O')  # 'If I lk frward I win'\n",
    "```\n",
    "На этот раз реализуйте эту функцию с помощью цикла `for`. Дополнительное условие: регистр исключаемого символа не имеет значения.\n",
    "\n",
    "# Подсказка\n",
    "При решении могут понадобиться методы, которые мы уже использовали в предыдущих заданиях."
   ]
  },
  {
   "cell_type": "code",
   "execution_count": 1,
   "metadata": {},
   "outputs": [],
   "source": [
    "def filter_string(string: str, symbol: str) -> str:\n",
    "    out = \"\"\n",
    "    for char in string:\n",
    "        if char.lower() != symbol.lower():\n",
    "            out += char\n",
    "    return out.strip()"
   ]
  },
  {
   "cell_type": "code",
   "execution_count": 2,
   "metadata": {},
   "outputs": [
    {
     "name": "stdout",
     "output_type": "stream",
     "text": [
      "f  look forward  wn\n",
      "If I lk frward I win\n"
     ]
    }
   ],
   "source": [
    "text = 'If I look forward I win'\n",
    "print(filter_string(text, 'i'))  # 'f  look forward  wn'\n",
    "print(filter_string(text, 'O'))  # 'If I lk frward I win'"
   ]
  }
 ],
 "metadata": {
  "kernelspec": {
   "display_name": "Python 3",
   "language": "python",
   "name": "python3"
  },
  "language_info": {
   "codemirror_mode": {
    "name": "ipython",
    "version": 3
   },
   "file_extension": ".py",
   "mimetype": "text/x-python",
   "name": "python",
   "nbconvert_exporter": "python",
   "pygments_lexer": "ipython3",
   "version": "3.9.0"
  },
  "orig_nbformat": 4
 },
 "nbformat": 4,
 "nbformat_minor": 2
}
