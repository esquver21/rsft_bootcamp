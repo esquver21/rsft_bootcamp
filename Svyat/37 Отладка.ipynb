{
 "cells": [
  {
   "cell_type": "markdown",
   "metadata": {},
   "source": [
    "Палиндром — слово или текст, одинаково читающиеся в обоих направлениях. Примеры:\n",
    "* \"я\",\n",
    "* \"радар\",\n",
    "* \"асса\",\n",
    "* \"ишак ищет у тещи каши\"\n",
    "\n",
    "Реализуйте функцию `is_palindrome()`, которая принимает на вход слово, определяет, является ли оно палиндромом, а затем возвращает логическое значение.\n",
    "```python\n",
    "from solution import is_palindrome\n",
    "is_palindrome('')  # True пустая строка тоже считается палиндромом\n",
    "is_palindrome('radar') # True\n",
    "is_palindrome('a') # True\n",
    "is_palindrome('abs') # False\n",
    "is_palindrome('ишак ищет у тещи каши') # True\n",
    "```"
   ]
  },
  {
   "cell_type": "code",
   "execution_count": 1,
   "metadata": {},
   "outputs": [],
   "source": [
    "def is_palindrome(string: str) -> bool:\n",
    "    return string == string[::-1]"
   ]
  },
  {
   "cell_type": "code",
   "execution_count": 2,
   "metadata": {},
   "outputs": [
    {
     "name": "stdout",
     "output_type": "stream",
     "text": [
      "True\n",
      "True\n",
      "True\n",
      "False\n",
      "True\n"
     ]
    }
   ],
   "source": [
    "print(is_palindrome(''))        # True пустая строка тоже считается палиндромом\n",
    "print(is_palindrome('radar'))   # True\n",
    "print(is_palindrome('a'))       # True\n",
    "print(is_palindrome('abs'))     # False\n",
    "print(is_palindrome('ишак ищет у тещи каши'))   # True"
   ]
  }
 ],
 "metadata": {
  "kernelspec": {
   "display_name": "Python 3",
   "language": "python",
   "name": "python3"
  },
  "language_info": {
   "codemirror_mode": {
    "name": "ipython",
    "version": 3
   },
   "file_extension": ".py",
   "mimetype": "text/x-python",
   "name": "python",
   "nbconvert_exporter": "python",
   "pygments_lexer": "ipython3",
   "version": "3.9.0"
  },
  "orig_nbformat": 4
 },
 "nbformat": 4,
 "nbformat_minor": 2
}
