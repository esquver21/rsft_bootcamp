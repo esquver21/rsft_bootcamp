{
 "cells": [
  {
   "cell_type": "markdown",
   "metadata": {},
   "source": [
    "Реализуйте функцию `count_vowels()`, которая принимает строку, считает и возвращает количество гласных букв в ней.\n",
    "\n",
    "Для проверки, является ли буква гласной, импортируйте и используйте функцию `is_vowel()` из модуля `symbols.py`.\n",
    "```python\n",
    "is_vowel('a')  # True\n",
    "is_vowel('n')  # False\n",
    " \n",
    "count_vowels('One')  # 2\n",
    "count_vowels('London is the capital of Great Britain')  # 13\n",
    "```"
   ]
  },
  {
   "cell_type": "code",
   "execution_count": 1,
   "metadata": {},
   "outputs": [],
   "source": [
    "from others.symbols import is_vowel\n",
    "\n",
    "def count_vowels(word: str) -> int:\n",
    "    counter = 0\n",
    "    for iterat in word:\n",
    "        if is_vowel(iterat.lower()):\n",
    "            counter += 1\n",
    "    return counter"
   ]
  },
  {
   "cell_type": "markdown",
   "metadata": {},
   "source": [
    "Не знаю, `symbols.py` реализую в папке `others`"
   ]
  },
  {
   "cell_type": "code",
   "execution_count": 2,
   "metadata": {},
   "outputs": [
    {
     "name": "stdout",
     "output_type": "stream",
     "text": [
      "2\n",
      "13\n"
     ]
    }
   ],
   "source": [
    "print(count_vowels('One'))  # 2\n",
    "print(count_vowels('London is the capital of Great Britain'))  # 13"
   ]
  }
 ],
 "metadata": {
  "kernelspec": {
   "display_name": "Python 3",
   "language": "python",
   "name": "python3"
  },
  "language_info": {
   "codemirror_mode": {
    "name": "ipython",
    "version": 3
   },
   "file_extension": ".py",
   "mimetype": "text/x-python",
   "name": "python",
   "nbconvert_exporter": "python",
   "pygments_lexer": "ipython3",
   "version": "3.9.0"
  },
  "orig_nbformat": 4
 },
 "nbformat": 4,
 "nbformat_minor": 2
}
