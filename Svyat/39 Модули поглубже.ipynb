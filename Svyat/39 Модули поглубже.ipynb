{
 "cells": [
  {
   "cell_type": "markdown",
   "metadata": {},
   "source": [
    "Директория _src_ в файловом дереве содержит модуль `kit.py`. Изучите его.\n",
    "\n",
    "Реализуйте функцию `print_kit()` и вызовите в ней все функции, которые определены в модуле `kit.py`. Предварительно импортируйте их."
   ]
  },
  {
   "cell_type": "code",
   "execution_count": 1,
   "metadata": {},
   "outputs": [],
   "source": [
    "from others.kit import *\n",
    "\n",
    "def print_kit():\n",
    "    show_language()\n",
    "    say_hello()\n",
    "    say_bye()"
   ]
  },
  {
   "cell_type": "code",
   "execution_count": 2,
   "metadata": {},
   "outputs": [
    {
     "name": "stdout",
     "output_type": "stream",
     "text": [
      "Python\n",
      "Hello!\n",
      "Bye...\n"
     ]
    }
   ],
   "source": [
    "print_kit()"
   ]
  }
 ],
 "metadata": {
  "kernelspec": {
   "display_name": "Python 3",
   "language": "python",
   "name": "python3"
  },
  "language_info": {
   "codemirror_mode": {
    "name": "ipython",
    "version": 3
   },
   "file_extension": ".py",
   "mimetype": "text/x-python",
   "name": "python",
   "nbconvert_exporter": "python",
   "pygments_lexer": "ipython3",
   "version": "3.9.0"
  },
  "orig_nbformat": 4
 },
 "nbformat": 4,
 "nbformat_minor": 2
}
