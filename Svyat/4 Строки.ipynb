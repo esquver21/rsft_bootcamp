{
 "cells": [
  {
   "cell_type": "markdown",
   "metadata": {},
   "source": [
    "Напишите программу, которая выводит на экран:\n",
    "\n",
    "```\n",
    "- Did Joffrey agree?  \n",
    "- He did. He also said \"I love using \\n\".\n",
    "```\n",
    "\n",
    "Ваша программа должна использовать только один `print()`, но выводить результат на экране в две строчки, как показано выше."
   ]
  },
  {
   "cell_type": "code",
   "execution_count": 1,
   "metadata": {},
   "outputs": [
    {
     "name": "stdout",
     "output_type": "stream",
     "text": [
      "- Did Joffrey agree?\n",
      "- He did. He also said \"I love using \\n\".\n"
     ]
    }
   ],
   "source": [
    "print(\"- Did Joffrey agree?\\n- He did. He also said \\\"I love using \\\\n\\\".\")"
   ]
  }
 ],
 "metadata": {
  "kernelspec": {
   "display_name": "Python 3",
   "language": "python",
   "name": "python3"
  },
  "language_info": {
   "codemirror_mode": {
    "name": "ipython",
    "version": 3
   },
   "file_extension": ".py",
   "mimetype": "text/x-python",
   "name": "python",
   "nbconvert_exporter": "python",
   "pygments_lexer": "ipython3",
   "version": "3.9.0"
  },
  "orig_nbformat": 4
 },
 "nbformat": 4,
 "nbformat_minor": 2
}
