{
 "cells": [
  {
   "cell_type": "markdown",
   "metadata": {},
   "source": [
    "Реализуйте функцию `choice_from_range()`, которая принимает строку-набор и возвращает случайный символ по индексу из ограниченного диапазона.\n",
    "\n",
    "Аргументы функции:\n",
    "* строка-набор\n",
    "* начальный индекс диапазона\n",
    "* конечный индекс диапазона\n",
    "```python\n",
    "text = \"abcdef\"\n",
    "choice_from_range(text, 3, 5)  # d\n",
    "choice_from_range(text, 3, 5)  # f\n",
    "choice_from_range(text, 3, 5)  # e\n",
    "```"
   ]
  },
  {
   "cell_type": "code",
   "execution_count": 15,
   "metadata": {},
   "outputs": [],
   "source": [
    "import random\n",
    "\n",
    "def choice_from_range(text: str, start: int, finish: int) -> str:\n",
    "    return random.choice(text[start:finish])"
   ]
  },
  {
   "cell_type": "code",
   "execution_count": 16,
   "metadata": {},
   "outputs": [
    {
     "name": "stdout",
     "output_type": "stream",
     "text": [
      "d\n",
      "e\n",
      "d\n"
     ]
    }
   ],
   "source": [
    "text = \"abcdef\"\n",
    "print(choice_from_range(text, 3, 5))  # d\n",
    "print(choice_from_range(text, 3, 5))  # f\n",
    "print(choice_from_range(text, 3, 5))  # e"
   ]
  }
 ],
 "metadata": {
  "kernelspec": {
   "display_name": "Python 3",
   "language": "python",
   "name": "python3"
  },
  "language_info": {
   "codemirror_mode": {
    "name": "ipython",
    "version": 3
   },
   "file_extension": ".py",
   "mimetype": "text/x-python",
   "name": "python",
   "nbconvert_exporter": "python",
   "pygments_lexer": "ipython3",
   "version": "3.9.0"
  },
  "orig_nbformat": 4
 },
 "nbformat": 4,
 "nbformat_minor": 2
}
