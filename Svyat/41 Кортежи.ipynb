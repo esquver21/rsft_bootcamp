{
 "cells": [
  {
   "cell_type": "markdown",
   "metadata": {},
   "source": [
    "Реализуйте функцию `sort_pair`, которая принимает пару (кортеж из двух значений) и возвращает пару, значения которой расположены строго в порядке возрастания.\n",
    "\n",
    "Пример:\n",
    "```python\n",
    "# обратите внимание на скобки у аргумента функции\n",
    "sort_pair((5, 1)) == (1, 5)\n",
    "sort_pair((2, 2)) == (2, 2)\n",
    "sort_pair((7, 8)) == (7, 8)\n",
    "```"
   ]
  },
  {
   "cell_type": "code",
   "execution_count": 3,
   "metadata": {},
   "outputs": [],
   "source": [
    "def sort_pair(pair):\n",
    "    one, two = pair\n",
    "\n",
    "    if one > two:\n",
    "        return (two, one)\n",
    "    else:\n",
    "        return pair"
   ]
  },
  {
   "cell_type": "code",
   "execution_count": 4,
   "metadata": {},
   "outputs": [
    {
     "name": "stdout",
     "output_type": "stream",
     "text": [
      "True\n",
      "True\n",
      "True\n"
     ]
    }
   ],
   "source": [
    "print(sort_pair((5, 1)) == (1, 5))\n",
    "print(sort_pair((2, 2)) == (2, 2))\n",
    "print(sort_pair((7, 8)) == (7, 8))"
   ]
  }
 ],
 "metadata": {
  "kernelspec": {
   "display_name": "Python 3",
   "language": "python",
   "name": "python3"
  },
  "language_info": {
   "codemirror_mode": {
    "name": "ipython",
    "version": 3
   },
   "file_extension": ".py",
   "mimetype": "text/x-python",
   "name": "python",
   "nbconvert_exporter": "python",
   "pygments_lexer": "ipython3",
   "version": "3.9.0"
  },
  "orig_nbformat": 4
 },
 "nbformat": 4,
 "nbformat_minor": 2
}
