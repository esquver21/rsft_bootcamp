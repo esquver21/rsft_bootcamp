{
 "cells": [
  {
   "cell_type": "markdown",
   "metadata": {},
   "source": [
    "Найдите в программе необъявленную переменную и объявите ее, присвоив ей значение `Dragon`:\n",
    "\n",
    "```python\n",
    "family = 'Targaryen'\n",
    "\n",
    "print(family)\n",
    "print(' and ')\n",
    "print(pet)\n",
    "```"
   ]
  },
  {
   "cell_type": "code",
   "execution_count": 1,
   "metadata": {},
   "outputs": [
    {
     "name": "stdout",
     "output_type": "stream",
     "text": [
      "Targaryen\n",
      " and \n",
      "Dragon\n"
     ]
    }
   ],
   "source": [
    "family = 'Targaryen'\n",
    "pet = 'Dragon'\n",
    "\n",
    "print(family)\n",
    "print(' and ')\n",
    "print(pet)\n"
   ]
  }
 ],
 "metadata": {
  "kernelspec": {
   "display_name": "Python 3",
   "language": "python",
   "name": "python3"
  },
  "language_info": {
   "codemirror_mode": {
    "name": "ipython",
    "version": 3
   },
   "file_extension": ".py",
   "mimetype": "text/x-python",
   "name": "python",
   "nbconvert_exporter": "python",
   "pygments_lexer": "ipython3",
   "version": "3.9.0"
  },
  "orig_nbformat": 4
 },
 "nbformat": 4,
 "nbformat_minor": 2
}
