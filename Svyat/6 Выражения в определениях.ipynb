{
 "cells": [
  {
   "cell_type": "markdown",
   "metadata": {},
   "source": [
    "Напишите программу, которая:\n",
    "\n",
    "* Берет исходное количество евро, записанное в переменную `euros_count`\n",
    "* Переводит евро в доллары\n",
    "* Выводит результат на экран\n",
    "* Полученное значение переводит в рубли и выводит на новой строчке\n",
    "\n",
    "Пример вывода для 100 евро:\n",
    "```\n",
    "125.0  \n",
    "7500.0\n",
    "```\n",
    "\n",
    "Считаем, что:\n",
    "\n",
    "1 евро = 1.25 долларов  \n",
    "1 доллар = 60 рублей"
   ]
  },
  {
   "cell_type": "code",
   "execution_count": 3,
   "metadata": {},
   "outputs": [
    {
     "name": "stdout",
     "output_type": "stream",
     "text": [
      "125.0\n",
      "7500.0\n"
     ]
    }
   ],
   "source": [
    "euros = 100\n",
    "dollar_rate = 1.25\n",
    "ruble_rate = 60\n",
    "\n",
    "print(dollar_rate * euros)\n",
    "print(dollar_rate * ruble_rate * euros)"
   ]
  }
 ],
 "metadata": {
  "kernelspec": {
   "display_name": "Python 3",
   "language": "python",
   "name": "python3"
  },
  "language_info": {
   "codemirror_mode": {
    "name": "ipython",
    "version": 3
   },
   "file_extension": ".py",
   "mimetype": "text/x-python",
   "name": "python",
   "nbconvert_exporter": "python",
   "pygments_lexer": "ipython3",
   "version": "3.9.0"
  },
  "orig_nbformat": 4
 },
 "nbformat": 4,
 "nbformat_minor": 2
}
