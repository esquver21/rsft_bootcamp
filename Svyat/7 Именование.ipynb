{
 "cells": [
  {
   "cell_type": "markdown",
   "metadata": {},
   "source": [
    "Вы столкнулись с таким кодом, который выводит на экран общее количество комнат во владении нынешнего короля:\n",
    "\n",
    "```python\n",
    "king = 'King Balon the 6th'\n",
    "# Функция str() превращает число в строку\n",
    "# О таких превращениях будет отдельный урок\n",
    "print(king + ' has ' + str(6 * 17) + ' rooms.')\n",
    "```\n",
    "\n",
    "Как видите, это магические числа: непонятно, что такое 6 и что такое 17. Можно догадаться, если знать историю королевской семьи. Каждый новый король получает в наследство все замки от предков и строит новый замок — точную копию родительского.\n",
    "\n",
    "Эта странная династия просто плодит одинаковые замки…\n",
    "\n",
    "Избавьтесь от магических чисел, создав новые переменные, а затем выведите текст на экран:\n",
    "\n",
    "```\n",
    "King Balon the 6th has 102 rooms.\n",
    "```\n",
    "\n",
    "Названия переменных должны передавать смысл чисел, но должны при этом оставаться короткими и емкими.\n",
    "\n",
    "Помните: код будет работать с любыми названиями, а наша система всегда проверяет только результат на экране, поэтому выполнение этого задания — под вашу ответственность."
   ]
  },
  {
   "cell_type": "code",
   "execution_count": 1,
   "metadata": {},
   "outputs": [
    {
     "name": "stdout",
     "output_type": "stream",
     "text": [
      "King Balon the 6th has 102 rooms.\n"
     ]
    }
   ],
   "source": [
    "king = 'King Balon the 6th'\n",
    "castle_rooms = 17\n",
    "king_house = 6\n",
    "\n",
    "print(king + ' has ' + str(castle_rooms * king_house) + ' rooms.')"
   ]
  }
 ],
 "metadata": {
  "kernelspec": {
   "display_name": "Python 3",
   "language": "python",
   "name": "python3"
  },
  "language_info": {
   "codemirror_mode": {
    "name": "ipython",
    "version": 3
   },
   "file_extension": ".py",
   "mimetype": "text/x-python",
   "name": "python",
   "nbconvert_exporter": "python",
   "pygments_lexer": "ipython3",
   "version": "3.9.0"
  },
  "orig_nbformat": 4
 },
 "nbformat": 4,
 "nbformat_minor": 2
}
