{
 "cells": [
  {
   "cell_type": "markdown",
   "metadata": {},
   "source": [
    "Выведите на экран две строки: `Do you want to eat, <name>?` и `Yes, I'm hungry, mom.`\n",
    "\n",
    "Вместо `<name>` должна использоваться переменная `stark`. При формировании итоговой строки используйте интерполяцию. Вывод должен получиться таким:\n",
    "\n",
    "```\n",
    "Do you want to eat, Arya?\n",
    "Yes, I'm hungry, mom.\n",
    "```"
   ]
  },
  {
   "cell_type": "code",
   "execution_count": 1,
   "metadata": {},
   "outputs": [
    {
     "name": "stdout",
     "output_type": "stream",
     "text": [
      "Do you want to eat, Arya?\n",
      "Yes, I'm hungry, mom.\n"
     ]
    }
   ],
   "source": [
    "stark = 'Arya'\n",
    "\n",
    "print(f\"\"\"Do you want to eat, {stark}?\n",
    "Yes, I'm hungry, mom.\"\"\")"
   ]
  }
 ],
 "metadata": {
  "kernelspec": {
   "display_name": "Python 3",
   "language": "python",
   "name": "python3"
  },
  "language_info": {
   "codemirror_mode": {
    "name": "ipython",
    "version": 3
   },
   "file_extension": ".py",
   "mimetype": "text/x-python",
   "name": "python",
   "nbconvert_exporter": "python",
   "pygments_lexer": "ipython3",
   "version": "3.9.0"
  },
  "orig_nbformat": 4
 },
 "nbformat": 4,
 "nbformat_minor": 2
}
