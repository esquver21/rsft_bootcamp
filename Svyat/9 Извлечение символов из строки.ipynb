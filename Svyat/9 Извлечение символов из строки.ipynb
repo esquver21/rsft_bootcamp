{
 "cells": [
  {
   "cell_type": "markdown",
   "metadata": {},
   "source": [
    "Вам даны три переменные с фамилиями разных людей:\n",
    "```\n",
    "one = 'Naharis'\n",
    "two = 'Mormont'\n",
    "three = 'Sand'\n",
    "```\n",
    "\n",
    "Составьте и выведите на экран слово из символов в таком порядке:\n",
    "\n",
    "* Третий символ из первой строки\n",
    "* Второй символ из второй строки\n",
    "* Четвертый символ из третьей строки\n",
    "* Пятый символ из второй строки\n",
    "* Третий символ из второй строки\n",
    "\n",
    "Попробуйте использовать интерполяцию. Внутри фигурных скобок можно размещать не только переменные, но и отдельные символы строки, извлеченные по индексу (с помощью квадратных скобок)."
   ]
  },
  {
   "cell_type": "code",
   "execution_count": 1,
   "metadata": {},
   "outputs": [
    {
     "name": "stdout",
     "output_type": "stream",
     "text": [
      "hodor\n"
     ]
    }
   ],
   "source": [
    "one = 'Naharis'\n",
    "two = 'Mormont'\n",
    "three = 'Sand'\n",
    "\n",
    "print(f\"{one[2]}{two[1]}{three[3]}{two[4]}{two[2]}\")"
   ]
  }
 ],
 "metadata": {
  "kernelspec": {
   "display_name": "Python 3",
   "language": "python",
   "name": "python3"
  },
  "language_info": {
   "codemirror_mode": {
    "name": "ipython",
    "version": 3
   },
   "file_extension": ".py",
   "mimetype": "text/x-python",
   "name": "python",
   "nbconvert_exporter": "python",
   "pygments_lexer": "ipython3",
   "version": "3.9.0"
  },
  "orig_nbformat": 4
 },
 "nbformat": 4,
 "nbformat_minor": 2
}
